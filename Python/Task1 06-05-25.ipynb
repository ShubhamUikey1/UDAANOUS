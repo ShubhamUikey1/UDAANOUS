{
 "cells": [
  {
   "cell_type": "code",
   "execution_count": 2,
   "id": "6e454e79",
   "metadata": {},
   "outputs": [
    {
     "name": "stdout",
     "output_type": "stream",
     "text": [
      "  ID     Name         Age              Email    JoinDate Salary\n",
      "0  1    Alice          25  alice@example.com  01-01-2020  50000\n",
      "1  2      Bob          30    bob@example.com  not a date  60000\n",
      "2  2      Bob          30    bob@example.com  01-02-2020  60000\n",
      "3  4  Charlie         NaN           charlie@  01-03-2020  70000\n",
      "4  5    David  Twenty-two                NaN  01-04-2020    NaN\n"
     ]
    }
   ],
   "source": [
    "import pandas as pd\n",
    "\n",
    "# Load the messy CSV file\n",
    "file_path = \"D:\\Intership\\Python\\Messy data set.csv\"\n",
    "data = pd.read_csv(file_path)\n",
    "\n",
    "# Display the first 5 rows in a clean table format\n",
    "print(data.head())\n"
   ]
  },
  {
   "cell_type": "code",
   "execution_count": 3,
   "id": "93143a26",
   "metadata": {},
   "outputs": [
    {
     "data": {
      "text/html": [
       "<div>\n",
       "<style scoped>\n",
       "    .dataframe tbody tr th:only-of-type {\n",
       "        vertical-align: middle;\n",
       "    }\n",
       "\n",
       "    .dataframe tbody tr th {\n",
       "        vertical-align: top;\n",
       "    }\n",
       "\n",
       "    .dataframe thead th {\n",
       "        text-align: right;\n",
       "    }\n",
       "</style>\n",
       "<table border=\"1\" class=\"dataframe\">\n",
       "  <thead>\n",
       "    <tr style=\"text-align: right;\">\n",
       "      <th></th>\n",
       "      <th>ID</th>\n",
       "      <th>Name</th>\n",
       "      <th>Age</th>\n",
       "      <th>Email</th>\n",
       "      <th>JoinDate</th>\n",
       "      <th>Salary</th>\n",
       "    </tr>\n",
       "  </thead>\n",
       "  <tbody>\n",
       "    <tr>\n",
       "      <th>0</th>\n",
       "      <td>1</td>\n",
       "      <td>Alice</td>\n",
       "      <td>25</td>\n",
       "      <td>alice@example.com</td>\n",
       "      <td>01-01-2020</td>\n",
       "      <td>50000</td>\n",
       "    </tr>\n",
       "    <tr>\n",
       "      <th>1</th>\n",
       "      <td>2</td>\n",
       "      <td>Bob</td>\n",
       "      <td>30</td>\n",
       "      <td>bob@example.com</td>\n",
       "      <td>not a date</td>\n",
       "      <td>60000</td>\n",
       "    </tr>\n",
       "    <tr>\n",
       "      <th>2</th>\n",
       "      <td>2</td>\n",
       "      <td>Bob</td>\n",
       "      <td>30</td>\n",
       "      <td>bob@example.com</td>\n",
       "      <td>01-02-2020</td>\n",
       "      <td>60000</td>\n",
       "    </tr>\n",
       "    <tr>\n",
       "      <th>3</th>\n",
       "      <td>4</td>\n",
       "      <td>Charlie</td>\n",
       "      <td>NaN</td>\n",
       "      <td>charlie@</td>\n",
       "      <td>01-03-2020</td>\n",
       "      <td>70000</td>\n",
       "    </tr>\n",
       "    <tr>\n",
       "      <th>4</th>\n",
       "      <td>5</td>\n",
       "      <td>David</td>\n",
       "      <td>Twenty-two</td>\n",
       "      <td>NaN</td>\n",
       "      <td>01-04-2020</td>\n",
       "      <td>NaN</td>\n",
       "    </tr>\n",
       "    <tr>\n",
       "      <th>5</th>\n",
       "      <td>6</td>\n",
       "      <td>Eve</td>\n",
       "      <td>45</td>\n",
       "      <td>eve@example</td>\n",
       "      <td>01-05-2020</td>\n",
       "      <td>90000</td>\n",
       "    </tr>\n",
       "    <tr>\n",
       "      <th>6</th>\n",
       "      <td>7</td>\n",
       "      <td>Frank</td>\n",
       "      <td>50</td>\n",
       "      <td>frank@@example.com</td>\n",
       "      <td>01-06-2020</td>\n",
       "      <td>100000</td>\n",
       "    </tr>\n",
       "    <tr>\n",
       "      <th>7</th>\n",
       "      <td>8</td>\n",
       "      <td>Grace</td>\n",
       "      <td>55</td>\n",
       "      <td>grace@example.com</td>\n",
       "      <td>01-07-2020</td>\n",
       "      <td>one lakh</td>\n",
       "    </tr>\n",
       "    <tr>\n",
       "      <th>8</th>\n",
       "      <td>nine</td>\n",
       "      <td>Heidi</td>\n",
       "      <td>60</td>\n",
       "      <td>heidi@example.com</td>\n",
       "      <td>2020.08.01</td>\n",
       "      <td>120000</td>\n",
       "    </tr>\n",
       "    <tr>\n",
       "      <th>9</th>\n",
       "      <td>10</td>\n",
       "      <td>NaN</td>\n",
       "      <td>65</td>\n",
       "      <td>10@example.com</td>\n",
       "      <td>01-09-2020</td>\n",
       "      <td>130000</td>\n",
       "    </tr>\n",
       "  </tbody>\n",
       "</table>\n",
       "</div>"
      ],
      "text/plain": [
       "     ID     Name         Age               Email    JoinDate    Salary\n",
       "0     1    Alice          25   alice@example.com  01-01-2020     50000\n",
       "1     2      Bob          30     bob@example.com  not a date     60000\n",
       "2     2      Bob          30     bob@example.com  01-02-2020     60000\n",
       "3     4  Charlie         NaN            charlie@  01-03-2020     70000\n",
       "4     5    David  Twenty-two                 NaN  01-04-2020       NaN\n",
       "5     6      Eve          45         eve@example  01-05-2020     90000\n",
       "6     7    Frank          50  frank@@example.com  01-06-2020    100000\n",
       "7     8    Grace          55   grace@example.com  01-07-2020  one lakh\n",
       "8  nine    Heidi          60   heidi@example.com  2020.08.01    120000\n",
       "9    10      NaN          65      10@example.com  01-09-2020    130000"
      ]
     },
     "execution_count": 3,
     "metadata": {},
     "output_type": "execute_result"
    }
   ],
   "source": [
    "data"
   ]
  },
  {
   "cell_type": "code",
   "execution_count": 4,
   "id": "c2e61cf5",
   "metadata": {},
   "outputs": [
    {
     "name": "stdout",
     "output_type": "stream",
     "text": [
      "  ID     Name         Age              Email    JoinDate Salary\n",
      "0  1    Alice          25  alice@example.com  01-01-2020  50000\n",
      "1  2      Bob          30    bob@example.com  not a date  60000\n",
      "2  2      Bob          30    bob@example.com  01-02-2020  60000\n",
      "3  4  Charlie                       charlie@  01-03-2020  70000\n",
      "4  5    David  Twenty-two                     01-04-2020       \n"
     ]
    }
   ],
   "source": [
    "# Read the raw lines manually\n",
    "with open(r\"D:\\Intership\\Python\\Messy data set.csv\", 'r', encoding='utf-8') as f:\n",
    "    lines = f.readlines()\n",
    "\n",
    "# Split each line by comma\n",
    "data = [line.strip().split(',') for line in lines]\n",
    "\n",
    "# Create DataFrame\n",
    "df = pd.DataFrame(data[1:], columns=data[0])\n",
    "\n",
    "print(df.head())"
   ]
  },
  {
   "cell_type": "code",
   "execution_count": 5,
   "id": "22bf746f",
   "metadata": {},
   "outputs": [
    {
     "name": "stdout",
     "output_type": "stream",
     "text": [
      "Missing Data:\n",
      "\n",
      "ID          0\n",
      "Name        1\n",
      "Age         1\n",
      "Email       1\n",
      "JoinDate    0\n",
      "Salary      1\n",
      "dtype: int64\n"
     ]
    }
   ],
   "source": [
    "import pandas as pd\n",
    "import numpy as np\n",
    "\n",
    "# Convert empty strings to NaN\n",
    "df.replace('', np.nan, inplace=True)\n",
    "\n",
    "# Find missing values\n",
    "missing_data = df.isnull().sum()\n",
    "print(\"Missing Data:\\n\")\n",
    "print(missing_data)"
   ]
  },
  {
   "cell_type": "code",
   "execution_count": 6,
   "id": "c3666a9c",
   "metadata": {},
   "outputs": [
    {
     "name": "stdout",
     "output_type": "stream",
     "text": [
      "ID                 float64\n",
      "Name                object\n",
      "Age                float64\n",
      "Email               object\n",
      "JoinDate    datetime64[ns]\n",
      "Salary             float64\n",
      "dtype: object\n",
      "     ID     Name   Age               Email   JoinDate    Salary\n",
      "0   1.0    Alice  25.0   alice@example.com 2020-01-01   50000.0\n",
      "1   2.0      Bob  30.0     bob@example.com        NaT   60000.0\n",
      "2   2.0      Bob  30.0     bob@example.com 2020-01-02   60000.0\n",
      "3   4.0  Charlie   NaN            charlie@ 2020-01-03   70000.0\n",
      "4   5.0    David   NaN                 nan 2020-01-04       NaN\n",
      "5   6.0      Eve  45.0         eve@example 2020-01-05   90000.0\n",
      "6   7.0    Frank  50.0  frank@@example.com 2020-01-06  100000.0\n",
      "7   8.0    Grace  55.0   grace@example.com 2020-01-07       NaN\n",
      "8   NaN    Heidi  60.0   heidi@example.com 2020-08-01  120000.0\n",
      "9  10.0      nan  65.0      10@example.com 2020-01-09  130000.0\n"
     ]
    }
   ],
   "source": [
    "df['ID'] = pd.to_numeric(df['ID'], errors='coerce')\n",
    "\n",
    "# Convert Age → numeric\n",
    "df['Age'] = pd.to_numeric(df['Age'], errors='coerce')\n",
    "\n",
    "# Convert Salary → numeric (handle 'one lakh' etc.)\n",
    "df['Salary'] = pd.to_numeric(df['Salary'], errors='coerce')\n",
    "\n",
    "# Convert JoinDate → datetime\n",
    "df['JoinDate'] = pd.to_datetime(df['JoinDate'], errors='coerce')\n",
    "\n",
    "# Name and Email stay as string (object)\n",
    "df['Name'] = df['Name'].astype(str)\n",
    "df['Email'] = df['Email'].astype(str)\n",
    "\n",
    "# ✅ Check the updated types\n",
    "print(df.dtypes)\n",
    "\n",
    "# ✅ Optional: Check cleaned DataFrame\n",
    "print(df)"
   ]
  },
  {
   "cell_type": "code",
   "execution_count": 7,
   "id": "7c983e0d",
   "metadata": {},
   "outputs": [],
   "source": [
    "from sklearn.impute import SimpleImputer"
   ]
  },
  {
   "cell_type": "code",
   "execution_count": 8,
   "id": "75e482c2",
   "metadata": {},
   "outputs": [],
   "source": [
    "imputer = SimpleImputer(strategy = \"mean\")"
   ]
  },
  {
   "cell_type": "code",
   "execution_count": 9,
   "id": "afb5ac86",
   "metadata": {},
   "outputs": [],
   "source": [
    "imputer = SimpleImputer(strategy=\"mean\")\n",
    "imputer.fit(df[[\"Salary\"]])\n",
    "df[[\"Salary\"]] = imputer.transform(df[[\"Salary\"]])"
   ]
  },
  {
   "cell_type": "code",
   "execution_count": 10,
   "id": "36b04b79",
   "metadata": {},
   "outputs": [
    {
     "data": {
      "text/plain": [
       "ID                 float64\n",
       "Name                object\n",
       "Age                float64\n",
       "Email               object\n",
       "JoinDate    datetime64[ns]\n",
       "Salary             float64\n",
       "dtype: object"
      ]
     },
     "execution_count": 10,
     "metadata": {},
     "output_type": "execute_result"
    }
   ],
   "source": [
    "df.dtypes"
   ]
  },
  {
   "cell_type": "code",
   "execution_count": 11,
   "id": "92e1958e",
   "metadata": {},
   "outputs": [
    {
     "name": "stdout",
     "output_type": "stream",
     "text": [
      "[25. 30. nan 45. 50. 55. 60. 65.]\n"
     ]
    }
   ],
   "source": [
    "unique_ages = df[\"Age\"].unique()\n",
    "print(unique_ages)"
   ]
  },
  {
   "cell_type": "code",
   "execution_count": 12,
   "id": "08849465",
   "metadata": {},
   "outputs": [],
   "source": [
    "df[\"Salary\"] = df[\"Salary\"].astype(int)"
   ]
  },
  {
   "cell_type": "code",
   "execution_count": 13,
   "id": "57699da8",
   "metadata": {},
   "outputs": [
    {
     "data": {
      "text/plain": [
       "0     50000\n",
       "1     60000\n",
       "2     60000\n",
       "3     70000\n",
       "4     85000\n",
       "5     90000\n",
       "6    100000\n",
       "7     85000\n",
       "8    120000\n",
       "9    130000\n",
       "Name: Salary, dtype: int32"
      ]
     },
     "execution_count": 13,
     "metadata": {},
     "output_type": "execute_result"
    }
   ],
   "source": [
    "df.Salary"
   ]
  },
  {
   "cell_type": "code",
   "execution_count": 14,
   "id": "fbde386a",
   "metadata": {},
   "outputs": [],
   "source": [
    "df.drop_duplicates(inplace=True)"
   ]
  },
  {
   "cell_type": "code",
   "execution_count": 15,
   "id": "e5784a07",
   "metadata": {},
   "outputs": [
    {
     "data": {
      "text/html": [
       "<div>\n",
       "<style scoped>\n",
       "    .dataframe tbody tr th:only-of-type {\n",
       "        vertical-align: middle;\n",
       "    }\n",
       "\n",
       "    .dataframe tbody tr th {\n",
       "        vertical-align: top;\n",
       "    }\n",
       "\n",
       "    .dataframe thead th {\n",
       "        text-align: right;\n",
       "    }\n",
       "</style>\n",
       "<table border=\"1\" class=\"dataframe\">\n",
       "  <thead>\n",
       "    <tr style=\"text-align: right;\">\n",
       "      <th></th>\n",
       "      <th>ID</th>\n",
       "      <th>Name</th>\n",
       "      <th>Age</th>\n",
       "      <th>Email</th>\n",
       "      <th>JoinDate</th>\n",
       "      <th>Salary</th>\n",
       "    </tr>\n",
       "  </thead>\n",
       "  <tbody>\n",
       "    <tr>\n",
       "      <th>0</th>\n",
       "      <td>1.0</td>\n",
       "      <td>Alice</td>\n",
       "      <td>25.0</td>\n",
       "      <td>alice@example.com</td>\n",
       "      <td>2020-01-01</td>\n",
       "      <td>50000</td>\n",
       "    </tr>\n",
       "    <tr>\n",
       "      <th>1</th>\n",
       "      <td>2.0</td>\n",
       "      <td>Bob</td>\n",
       "      <td>30.0</td>\n",
       "      <td>bob@example.com</td>\n",
       "      <td>NaT</td>\n",
       "      <td>60000</td>\n",
       "    </tr>\n",
       "    <tr>\n",
       "      <th>2</th>\n",
       "      <td>2.0</td>\n",
       "      <td>Bob</td>\n",
       "      <td>30.0</td>\n",
       "      <td>bob@example.com</td>\n",
       "      <td>2020-01-02</td>\n",
       "      <td>60000</td>\n",
       "    </tr>\n",
       "    <tr>\n",
       "      <th>3</th>\n",
       "      <td>4.0</td>\n",
       "      <td>Charlie</td>\n",
       "      <td>NaN</td>\n",
       "      <td>charlie@</td>\n",
       "      <td>2020-01-03</td>\n",
       "      <td>70000</td>\n",
       "    </tr>\n",
       "    <tr>\n",
       "      <th>4</th>\n",
       "      <td>5.0</td>\n",
       "      <td>David</td>\n",
       "      <td>NaN</td>\n",
       "      <td>nan</td>\n",
       "      <td>2020-01-04</td>\n",
       "      <td>85000</td>\n",
       "    </tr>\n",
       "    <tr>\n",
       "      <th>5</th>\n",
       "      <td>6.0</td>\n",
       "      <td>Eve</td>\n",
       "      <td>45.0</td>\n",
       "      <td>eve@example</td>\n",
       "      <td>2020-01-05</td>\n",
       "      <td>90000</td>\n",
       "    </tr>\n",
       "    <tr>\n",
       "      <th>6</th>\n",
       "      <td>7.0</td>\n",
       "      <td>Frank</td>\n",
       "      <td>50.0</td>\n",
       "      <td>frank@@example.com</td>\n",
       "      <td>2020-01-06</td>\n",
       "      <td>100000</td>\n",
       "    </tr>\n",
       "    <tr>\n",
       "      <th>7</th>\n",
       "      <td>8.0</td>\n",
       "      <td>Grace</td>\n",
       "      <td>55.0</td>\n",
       "      <td>grace@example.com</td>\n",
       "      <td>2020-01-07</td>\n",
       "      <td>85000</td>\n",
       "    </tr>\n",
       "    <tr>\n",
       "      <th>8</th>\n",
       "      <td>NaN</td>\n",
       "      <td>Heidi</td>\n",
       "      <td>60.0</td>\n",
       "      <td>heidi@example.com</td>\n",
       "      <td>2020-08-01</td>\n",
       "      <td>120000</td>\n",
       "    </tr>\n",
       "    <tr>\n",
       "      <th>9</th>\n",
       "      <td>10.0</td>\n",
       "      <td>nan</td>\n",
       "      <td>65.0</td>\n",
       "      <td>10@example.com</td>\n",
       "      <td>2020-01-09</td>\n",
       "      <td>130000</td>\n",
       "    </tr>\n",
       "  </tbody>\n",
       "</table>\n",
       "</div>"
      ],
      "text/plain": [
       "     ID     Name   Age               Email   JoinDate  Salary\n",
       "0   1.0    Alice  25.0   alice@example.com 2020-01-01   50000\n",
       "1   2.0      Bob  30.0     bob@example.com        NaT   60000\n",
       "2   2.0      Bob  30.0     bob@example.com 2020-01-02   60000\n",
       "3   4.0  Charlie   NaN            charlie@ 2020-01-03   70000\n",
       "4   5.0    David   NaN                 nan 2020-01-04   85000\n",
       "5   6.0      Eve  45.0         eve@example 2020-01-05   90000\n",
       "6   7.0    Frank  50.0  frank@@example.com 2020-01-06  100000\n",
       "7   8.0    Grace  55.0   grace@example.com 2020-01-07   85000\n",
       "8   NaN    Heidi  60.0   heidi@example.com 2020-08-01  120000\n",
       "9  10.0      nan  65.0      10@example.com 2020-01-09  130000"
      ]
     },
     "execution_count": 15,
     "metadata": {},
     "output_type": "execute_result"
    }
   ],
   "source": [
    "df"
   ]
  },
  {
   "cell_type": "code",
   "execution_count": 16,
   "id": "24b8f4c4",
   "metadata": {},
   "outputs": [
    {
     "name": "stdout",
     "output_type": "stream",
     "text": [
      "+----+------+---------+-------+--------------------+---------------------+----------+\n",
      "|    |   ID | Name    |   Age | Email              | JoinDate            |   Salary |\n",
      "+====+======+=========+=======+====================+=====================+==========+\n",
      "|  0 |    1 | Alice   |    25 | alice@example.com  | 2020-01-01 00:00:00 |    50000 |\n",
      "+----+------+---------+-------+--------------------+---------------------+----------+\n",
      "|  1 |    2 | Bob     |    30 | bob@example.com    | NaT                 |    60000 |\n",
      "+----+------+---------+-------+--------------------+---------------------+----------+\n",
      "|  2 |    2 | Bob     |    30 | bob@example.com    | 2020-01-02 00:00:00 |    60000 |\n",
      "+----+------+---------+-------+--------------------+---------------------+----------+\n",
      "|  3 |    4 | Charlie |   nan | charlie@           | 2020-01-03 00:00:00 |    70000 |\n",
      "+----+------+---------+-------+--------------------+---------------------+----------+\n",
      "|  4 |    5 | David   |   nan | nan                | 2020-01-04 00:00:00 |    85000 |\n",
      "+----+------+---------+-------+--------------------+---------------------+----------+\n",
      "|  5 |    6 | Eve     |    45 | eve@example        | 2020-01-05 00:00:00 |    90000 |\n",
      "+----+------+---------+-------+--------------------+---------------------+----------+\n",
      "|  6 |    7 | Frank   |    50 | frank@@example.com | 2020-01-06 00:00:00 |   100000 |\n",
      "+----+------+---------+-------+--------------------+---------------------+----------+\n",
      "|  7 |    8 | Grace   |    55 | grace@example.com  | 2020-01-07 00:00:00 |    85000 |\n",
      "+----+------+---------+-------+--------------------+---------------------+----------+\n",
      "|  8 |  nan | Heidi   |    60 | heidi@example.com  | 2020-08-01 00:00:00 |   120000 |\n",
      "+----+------+---------+-------+--------------------+---------------------+----------+\n",
      "|  9 |   10 | nan     |    65 | 10@example.com     | 2020-01-09 00:00:00 |   130000 |\n",
      "+----+------+---------+-------+--------------------+---------------------+----------+\n"
     ]
    }
   ],
   "source": [
    "from tabulate import tabulate\n",
    "print(tabulate(df, headers='keys', tablefmt='grid'))\n"
   ]
  },
  {
   "cell_type": "code",
   "execution_count": 17,
   "id": "2c867260",
   "metadata": {},
   "outputs": [],
   "source": [
    "df[\"ID\"] = pd.to_numeric(df[\"ID\"], errors='coerce')  \n",
    "df[\"ID\"] = df[\"ID\"].fillna(df[\"ID\"].mean())          \n",
    "df[\"ID\"] = df[\"ID\"].astype(int)                      "
   ]
  },
  {
   "cell_type": "code",
   "execution_count": 18,
   "id": "cbd9f56b",
   "metadata": {},
   "outputs": [],
   "source": [
    "df[\"Age\"] = pd.to_numeric(df[\"Age\"], errors='coerce')  \n",
    "df[\"Age\"] = df[\"Age\"].fillna(df[\"Age\"].mean())          \n",
    "df[\"Age\"] = df[\"Age\"].astype(int)                       "
   ]
  },
  {
   "cell_type": "code",
   "execution_count": 20,
   "id": "9ea05153",
   "metadata": {},
   "outputs": [
    {
     "data": {
      "text/html": [
       "<div>\n",
       "<style scoped>\n",
       "    .dataframe tbody tr th:only-of-type {\n",
       "        vertical-align: middle;\n",
       "    }\n",
       "\n",
       "    .dataframe tbody tr th {\n",
       "        vertical-align: top;\n",
       "    }\n",
       "\n",
       "    .dataframe thead th {\n",
       "        text-align: right;\n",
       "    }\n",
       "</style>\n",
       "<table border=\"1\" class=\"dataframe\">\n",
       "  <thead>\n",
       "    <tr style=\"text-align: right;\">\n",
       "      <th></th>\n",
       "      <th>ID</th>\n",
       "      <th>Name</th>\n",
       "      <th>Age</th>\n",
       "      <th>Email</th>\n",
       "      <th>JoinDate</th>\n",
       "      <th>Salary</th>\n",
       "    </tr>\n",
       "  </thead>\n",
       "  <tbody>\n",
       "    <tr>\n",
       "      <th>0</th>\n",
       "      <td>1</td>\n",
       "      <td>Alice</td>\n",
       "      <td>25</td>\n",
       "      <td>alice@example.com</td>\n",
       "      <td>2020-01-01</td>\n",
       "      <td>50000</td>\n",
       "    </tr>\n",
       "    <tr>\n",
       "      <th>1</th>\n",
       "      <td>2</td>\n",
       "      <td>Bob</td>\n",
       "      <td>30</td>\n",
       "      <td>bob@example.com</td>\n",
       "      <td>NaT</td>\n",
       "      <td>60000</td>\n",
       "    </tr>\n",
       "    <tr>\n",
       "      <th>2</th>\n",
       "      <td>2</td>\n",
       "      <td>Bob</td>\n",
       "      <td>30</td>\n",
       "      <td>bob@example.com</td>\n",
       "      <td>2020-01-02</td>\n",
       "      <td>60000</td>\n",
       "    </tr>\n",
       "    <tr>\n",
       "      <th>3</th>\n",
       "      <td>4</td>\n",
       "      <td>Charlie</td>\n",
       "      <td>45</td>\n",
       "      <td>charlie@</td>\n",
       "      <td>2020-01-03</td>\n",
       "      <td>70000</td>\n",
       "    </tr>\n",
       "    <tr>\n",
       "      <th>4</th>\n",
       "      <td>5</td>\n",
       "      <td>David</td>\n",
       "      <td>45</td>\n",
       "      <td>nan</td>\n",
       "      <td>2020-01-04</td>\n",
       "      <td>85000</td>\n",
       "    </tr>\n",
       "    <tr>\n",
       "      <th>5</th>\n",
       "      <td>6</td>\n",
       "      <td>Eve</td>\n",
       "      <td>45</td>\n",
       "      <td>eve@example</td>\n",
       "      <td>2020-01-05</td>\n",
       "      <td>90000</td>\n",
       "    </tr>\n",
       "    <tr>\n",
       "      <th>6</th>\n",
       "      <td>7</td>\n",
       "      <td>Frank</td>\n",
       "      <td>50</td>\n",
       "      <td>frank@@example.com</td>\n",
       "      <td>2020-01-06</td>\n",
       "      <td>100000</td>\n",
       "    </tr>\n",
       "    <tr>\n",
       "      <th>7</th>\n",
       "      <td>8</td>\n",
       "      <td>Grace</td>\n",
       "      <td>55</td>\n",
       "      <td>grace@example.com</td>\n",
       "      <td>2020-01-07</td>\n",
       "      <td>85000</td>\n",
       "    </tr>\n",
       "    <tr>\n",
       "      <th>8</th>\n",
       "      <td>5</td>\n",
       "      <td>Heidi</td>\n",
       "      <td>60</td>\n",
       "      <td>heidi@example.com</td>\n",
       "      <td>2020-08-01</td>\n",
       "      <td>120000</td>\n",
       "    </tr>\n",
       "    <tr>\n",
       "      <th>9</th>\n",
       "      <td>10</td>\n",
       "      <td>nan</td>\n",
       "      <td>65</td>\n",
       "      <td>10@example.com</td>\n",
       "      <td>2020-01-09</td>\n",
       "      <td>130000</td>\n",
       "    </tr>\n",
       "  </tbody>\n",
       "</table>\n",
       "</div>"
      ],
      "text/plain": [
       "   ID     Name  Age               Email   JoinDate  Salary\n",
       "0   1    Alice   25   alice@example.com 2020-01-01   50000\n",
       "1   2      Bob   30     bob@example.com        NaT   60000\n",
       "2   2      Bob   30     bob@example.com 2020-01-02   60000\n",
       "3   4  Charlie   45            charlie@ 2020-01-03   70000\n",
       "4   5    David   45                 nan 2020-01-04   85000\n",
       "5   6      Eve   45         eve@example 2020-01-05   90000\n",
       "6   7    Frank   50  frank@@example.com 2020-01-06  100000\n",
       "7   8    Grace   55   grace@example.com 2020-01-07   85000\n",
       "8   5    Heidi   60   heidi@example.com 2020-08-01  120000\n",
       "9  10      nan   65      10@example.com 2020-01-09  130000"
      ]
     },
     "execution_count": 20,
     "metadata": {},
     "output_type": "execute_result"
    }
   ],
   "source": [
    "df"
   ]
  },
  {
   "cell_type": "code",
   "execution_count": 21,
   "id": "b3f57e69",
   "metadata": {},
   "outputs": [
    {
     "name": "stdout",
     "output_type": "stream",
     "text": [
      "+----+------+---------+-------+--------------------+---------------------+----------+\n",
      "|    |   ID | Name    |   Age | Email              | JoinDate            |   Salary |\n",
      "+====+======+=========+=======+====================+=====================+==========+\n",
      "|  0 |    1 | Alice   |    25 | alice@example.com  | 2020-01-01 00:00:00 |    50000 |\n",
      "+----+------+---------+-------+--------------------+---------------------+----------+\n",
      "|  1 |    2 | Bob     |    30 | bob@example.com    | NaT                 |    60000 |\n",
      "+----+------+---------+-------+--------------------+---------------------+----------+\n",
      "|  2 |    2 | Bob     |    30 | bob@example.com    | 2020-01-02 00:00:00 |    60000 |\n",
      "+----+------+---------+-------+--------------------+---------------------+----------+\n",
      "|  3 |    4 | Charlie |    45 | charlie@           | 2020-01-03 00:00:00 |    70000 |\n",
      "+----+------+---------+-------+--------------------+---------------------+----------+\n",
      "|  4 |    5 | David   |    45 | nan                | 2020-01-04 00:00:00 |    85000 |\n",
      "+----+------+---------+-------+--------------------+---------------------+----------+\n",
      "|  5 |    6 | Eve     |    45 | eve@example        | 2020-01-05 00:00:00 |    90000 |\n",
      "+----+------+---------+-------+--------------------+---------------------+----------+\n",
      "|  6 |    7 | Frank   |    50 | frank@@example.com | 2020-01-06 00:00:00 |   100000 |\n",
      "+----+------+---------+-------+--------------------+---------------------+----------+\n",
      "|  7 |    8 | Grace   |    55 | grace@example.com  | 2020-01-07 00:00:00 |    85000 |\n",
      "+----+------+---------+-------+--------------------+---------------------+----------+\n",
      "|  8 |    5 | Heidi   |    60 | heidi@example.com  | 2020-08-01 00:00:00 |   120000 |\n",
      "+----+------+---------+-------+--------------------+---------------------+----------+\n",
      "|  9 |   10 | nan     |    65 | 10@example.com     | 2020-01-09 00:00:00 |   130000 |\n",
      "+----+------+---------+-------+--------------------+---------------------+----------+\n"
     ]
    }
   ],
   "source": [
    "from tabulate import tabulate\n",
    "print(tabulate(df, headers='keys', tablefmt='grid'))"
   ]
  },
  {
   "cell_type": "code",
   "execution_count": null,
   "id": "148c51ec",
   "metadata": {},
   "outputs": [],
   "source": []
  }
 ],
 "metadata": {
  "kernelspec": {
   "display_name": "Python 3 (ipykernel)",
   "language": "python",
   "name": "python3"
  },
  "language_info": {
   "codemirror_mode": {
    "name": "ipython",
    "version": 3
   },
   "file_extension": ".py",
   "mimetype": "text/x-python",
   "name": "python",
   "nbconvert_exporter": "python",
   "pygments_lexer": "ipython3",
   "version": "3.9.13"
  }
 },
 "nbformat": 4,
 "nbformat_minor": 5
}
