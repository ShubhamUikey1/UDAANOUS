{
 "cells": [
  {
   "cell_type": "markdown",
   "id": "87af74b8",
   "metadata": {},
   "source": [
    "# Import Libraries and Load Data"
   ]
  },
  {
   "cell_type": "code",
   "execution_count": 1,
   "id": "a6e28ceb",
   "metadata": {},
   "outputs": [],
   "source": [
    "import pandas as pd\n",
    "import numpy as np\n",
    "import matplotlib.pyplot as plt\n",
    "import seaborn as sns"
   ]
  },
  {
   "cell_type": "code",
   "execution_count": 2,
   "id": "aaae5122",
   "metadata": {},
   "outputs": [
    {
     "data": {
      "text/html": [
       "<div>\n",
       "<style scoped>\n",
       "    .dataframe tbody tr th:only-of-type {\n",
       "        vertical-align: middle;\n",
       "    }\n",
       "\n",
       "    .dataframe tbody tr th {\n",
       "        vertical-align: top;\n",
       "    }\n",
       "\n",
       "    .dataframe thead th {\n",
       "        text-align: right;\n",
       "    }\n",
       "</style>\n",
       "<table border=\"1\" class=\"dataframe\">\n",
       "  <thead>\n",
       "    <tr style=\"text-align: right;\">\n",
       "      <th></th>\n",
       "      <th>CustomerID</th>\n",
       "      <th>Gender</th>\n",
       "      <th>Age</th>\n",
       "      <th>AnnualIncome</th>\n",
       "      <th>SpendingScore</th>\n",
       "      <th>PurchaseCategory</th>\n",
       "    </tr>\n",
       "  </thead>\n",
       "  <tbody>\n",
       "    <tr>\n",
       "      <th>0</th>\n",
       "      <td>101</td>\n",
       "      <td>Male</td>\n",
       "      <td>23</td>\n",
       "      <td>40000</td>\n",
       "      <td>60</td>\n",
       "      <td>Clothing</td>\n",
       "    </tr>\n",
       "    <tr>\n",
       "      <th>1</th>\n",
       "      <td>102</td>\n",
       "      <td>Female</td>\n",
       "      <td>31</td>\n",
       "      <td>50000</td>\n",
       "      <td>70</td>\n",
       "      <td>Electronics</td>\n",
       "    </tr>\n",
       "    <tr>\n",
       "      <th>2</th>\n",
       "      <td>103</td>\n",
       "      <td>Female</td>\n",
       "      <td>35</td>\n",
       "      <td>62000</td>\n",
       "      <td>90</td>\n",
       "      <td>Groceries</td>\n",
       "    </tr>\n",
       "    <tr>\n",
       "      <th>3</th>\n",
       "      <td>104</td>\n",
       "      <td>Male</td>\n",
       "      <td>22</td>\n",
       "      <td>35000</td>\n",
       "      <td>50</td>\n",
       "      <td>Clothing</td>\n",
       "    </tr>\n",
       "    <tr>\n",
       "      <th>4</th>\n",
       "      <td>105</td>\n",
       "      <td>Female</td>\n",
       "      <td>45</td>\n",
       "      <td>80000</td>\n",
       "      <td>80</td>\n",
       "      <td>Electronics</td>\n",
       "    </tr>\n",
       "    <tr>\n",
       "      <th>5</th>\n",
       "      <td>106</td>\n",
       "      <td>Male</td>\n",
       "      <td>52</td>\n",
       "      <td>90000</td>\n",
       "      <td>30</td>\n",
       "      <td>Groceries</td>\n",
       "    </tr>\n",
       "    <tr>\n",
       "      <th>6</th>\n",
       "      <td>107</td>\n",
       "      <td>Female</td>\n",
       "      <td>27</td>\n",
       "      <td>48000</td>\n",
       "      <td>72</td>\n",
       "      <td>Clothing</td>\n",
       "    </tr>\n",
       "    <tr>\n",
       "      <th>7</th>\n",
       "      <td>108</td>\n",
       "      <td>Male</td>\n",
       "      <td>41</td>\n",
       "      <td>75000</td>\n",
       "      <td>65</td>\n",
       "      <td>Electronics</td>\n",
       "    </tr>\n",
       "    <tr>\n",
       "      <th>8</th>\n",
       "      <td>109</td>\n",
       "      <td>Female</td>\n",
       "      <td>33</td>\n",
       "      <td>60000</td>\n",
       "      <td>77</td>\n",
       "      <td>Groceries</td>\n",
       "    </tr>\n",
       "    <tr>\n",
       "      <th>9</th>\n",
       "      <td>110</td>\n",
       "      <td>Male</td>\n",
       "      <td>29</td>\n",
       "      <td>52000</td>\n",
       "      <td>68</td>\n",
       "      <td>Clothing</td>\n",
       "    </tr>\n",
       "  </tbody>\n",
       "</table>\n",
       "</div>"
      ],
      "text/plain": [
       "   CustomerID  Gender  Age  AnnualIncome  SpendingScore PurchaseCategory\n",
       "0         101    Male   23         40000             60         Clothing\n",
       "1         102  Female   31         50000             70      Electronics\n",
       "2         103  Female   35         62000             90        Groceries\n",
       "3         104    Male   22         35000             50         Clothing\n",
       "4         105  Female   45         80000             80      Electronics\n",
       "5         106    Male   52         90000             30        Groceries\n",
       "6         107  Female   27         48000             72         Clothing\n",
       "7         108    Male   41         75000             65      Electronics\n",
       "8         109  Female   33         60000             77        Groceries\n",
       "9         110    Male   29         52000             68         Clothing"
      ]
     },
     "execution_count": 2,
     "metadata": {},
     "output_type": "execute_result"
    }
   ],
   "source": [
    "Data = pd.read_csv(r\"D:\\Intership\\Python\\customer_analysis_project\\data\\customers.csv\")\n",
    "data1 = pd.DataFrame(Data)\n",
    "data1"
   ]
  },
  {
   "cell_type": "markdown",
   "id": "55dd3117",
   "metadata": {},
   "source": [
    "#  Step 3: Initial Data Exploration"
   ]
  },
  {
   "cell_type": "code",
   "execution_count": 3,
   "id": "4cda5467",
   "metadata": {},
   "outputs": [
    {
     "name": "stdout",
     "output_type": "stream",
     "text": [
      "CustomerID          0\n",
      "Gender              0\n",
      "Age                 0\n",
      "AnnualIncome        0\n",
      "SpendingScore       0\n",
      "PurchaseCategory    0\n",
      "dtype: int64\n"
     ]
    },
    {
     "data": {
      "text/html": [
       "<div>\n",
       "<style scoped>\n",
       "    .dataframe tbody tr th:only-of-type {\n",
       "        vertical-align: middle;\n",
       "    }\n",
       "\n",
       "    .dataframe tbody tr th {\n",
       "        vertical-align: top;\n",
       "    }\n",
       "\n",
       "    .dataframe thead th {\n",
       "        text-align: right;\n",
       "    }\n",
       "</style>\n",
       "<table border=\"1\" class=\"dataframe\">\n",
       "  <thead>\n",
       "    <tr style=\"text-align: right;\">\n",
       "      <th></th>\n",
       "      <th>CustomerID</th>\n",
       "      <th>Age</th>\n",
       "      <th>AnnualIncome</th>\n",
       "      <th>SpendingScore</th>\n",
       "    </tr>\n",
       "  </thead>\n",
       "  <tbody>\n",
       "    <tr>\n",
       "      <th>count</th>\n",
       "      <td>10.00000</td>\n",
       "      <td>10.000000</td>\n",
       "      <td>10.000000</td>\n",
       "      <td>10.000000</td>\n",
       "    </tr>\n",
       "    <tr>\n",
       "      <th>mean</th>\n",
       "      <td>105.50000</td>\n",
       "      <td>33.800000</td>\n",
       "      <td>59200.000000</td>\n",
       "      <td>66.200000</td>\n",
       "    </tr>\n",
       "    <tr>\n",
       "      <th>std</th>\n",
       "      <td>3.02765</td>\n",
       "      <td>9.681598</td>\n",
       "      <td>17812.604776</td>\n",
       "      <td>16.791532</td>\n",
       "    </tr>\n",
       "    <tr>\n",
       "      <th>min</th>\n",
       "      <td>101.00000</td>\n",
       "      <td>22.000000</td>\n",
       "      <td>35000.000000</td>\n",
       "      <td>30.000000</td>\n",
       "    </tr>\n",
       "    <tr>\n",
       "      <th>25%</th>\n",
       "      <td>103.25000</td>\n",
       "      <td>27.500000</td>\n",
       "      <td>48500.000000</td>\n",
       "      <td>61.250000</td>\n",
       "    </tr>\n",
       "    <tr>\n",
       "      <th>50%</th>\n",
       "      <td>105.50000</td>\n",
       "      <td>32.000000</td>\n",
       "      <td>56000.000000</td>\n",
       "      <td>69.000000</td>\n",
       "    </tr>\n",
       "    <tr>\n",
       "      <th>75%</th>\n",
       "      <td>107.75000</td>\n",
       "      <td>39.500000</td>\n",
       "      <td>71750.000000</td>\n",
       "      <td>75.750000</td>\n",
       "    </tr>\n",
       "    <tr>\n",
       "      <th>max</th>\n",
       "      <td>110.00000</td>\n",
       "      <td>52.000000</td>\n",
       "      <td>90000.000000</td>\n",
       "      <td>90.000000</td>\n",
       "    </tr>\n",
       "  </tbody>\n",
       "</table>\n",
       "</div>"
      ],
      "text/plain": [
       "       CustomerID        Age  AnnualIncome  SpendingScore\n",
       "count    10.00000  10.000000     10.000000      10.000000\n",
       "mean    105.50000  33.800000  59200.000000      66.200000\n",
       "std       3.02765   9.681598  17812.604776      16.791532\n",
       "min     101.00000  22.000000  35000.000000      30.000000\n",
       "25%     103.25000  27.500000  48500.000000      61.250000\n",
       "50%     105.50000  32.000000  56000.000000      69.000000\n",
       "75%     107.75000  39.500000  71750.000000      75.750000\n",
       "max     110.00000  52.000000  90000.000000      90.000000"
      ]
     },
     "execution_count": 3,
     "metadata": {},
     "output_type": "execute_result"
    }
   ],
   "source": [
    "print(data1.isnull().sum())\n",
    "data1.describe()"
   ]
  },
  {
   "cell_type": "markdown",
   "id": "2012f3ef",
   "metadata": {},
   "source": [
    "# Step 4: Visualize Gender Distribution"
   ]
  },
  {
   "cell_type": "code",
   "execution_count": 5,
   "id": "42964ba4",
   "metadata": {},
   "outputs": [
    {
     "data": {
      "image/png": "[encoded data removed]",
      "text/plain": [
       "<Figure size 600x400 with 1 Axes>"
      ]
     },
     "metadata": {},
     "output_type": "display_data"
    }
   ],
   "source": [
    "plt.figure(figsize=(6,4))\n",
    "sns.countplot(data=data1, x='Gender', palette='Set2')\n",
    "plt.title('Gender Distribution')\n",
    "plt.xlabel('Gender')\n",
    "plt.ylabel('Count')\n",
    "plt.show()"
   ]
  },
  {
   "cell_type": "markdown",
   "id": "18423af7",
   "metadata": {},
   "source": [
    "#  Step 5: Analyze Spending Score by Gender"
   ]
  },
  {
   "cell_type": "code",
   "execution_count": 7,
   "id": "816420b0",
   "metadata": {},
   "outputs": [
    {
     "data": {
      "image/png": "[encoded data removed]",
      "text/plain": [
       "<Figure size 600x400 with 1 Axes>"
      ]
     },
     "metadata": {},
     "output_type": "display_data"
    }
   ],
   "source": [
    "plt.figure(figsize=(6,4))\n",
    "sns.boxplot(data=data1, x='Gender', y='SpendingScore', palette='Set3')\n",
    "plt.title('Spending Score by Gender')\n",
    "plt.xlabel('Gender')\n",
    "plt.ylabel('Spending Score')\n",
    "plt.show()\n"
   ]
  },
  {
   "cell_type": "markdown",
   "id": "7a7a336d",
   "metadata": {},
   "source": [
    "# Step 6: Explore Relationship Between Age and Spending Score"
   ]
  },
  {
   "cell_type": "code",
   "execution_count": 8,
   "id": "1d51e658",
   "metadata": {},
   "outputs": [
    {
     "data": {
      "image/png": "[encoded data removed]",
      "text/plain": [
       "<Figure size 800x500 with 1 Axes>"
      ]
     },
     "metadata": {},
     "output_type": "display_data"
    }
   ],
   "source": [
    "plt.figure(figsize=(8,5))\n",
    "sns.scatterplot(data=data1, x='Age', y='SpendingScore', hue='Gender', palette='coolwarm')\n",
    "plt.title('Age vs Spending Score')\n",
    "plt.xlabel('Age')\n",
    "plt.ylabel('Spending Score')\n",
    "plt.show()\n"
   ]
  },
  {
   "cell_type": "markdown",
   "id": "d5d72a7b",
   "metadata": {},
   "source": [
    "# Step 7: Category-Wise Spending Analysis"
   ]
  },
  {
   "cell_type": "code",
   "execution_count": 11,
   "id": "de93e7a1",
   "metadata": {},
   "outputs": [
    {
     "name": "stdout",
     "output_type": "stream",
     "text": [
      "Category or Amount Spent column not found.\n"
     ]
    }
   ],
   "source": [
    "if 'Category' in data1.columns and 'Amount Spent' in data1.columns:\n",
    "    category_avg = data1.groupby('Category')['Amount Spent'].mean().sort_values(ascending=False)\n",
    "    category_avg.plot(kind='bar', color='orange')\n",
    "    plt.title(\"Average Spending by Category\")\n",
    "    plt.ylabel(\"Average Amount Spent\")\n",
    "    plt.show()\n",
    "else:\n",
    "    print(\"Category or Amount Spent column not found.\")"
   ]
  },
  {
   "cell_type": "markdown",
   "id": "3fa9ea73",
   "metadata": {},
   "source": [
    "#  Step 8: (Optional) Add More Analysis"
   ]
  },
  {
   "cell_type": "code",
   "execution_count": 13,
   "id": "9bb15c8c",
   "metadata": {},
   "outputs": [
    {
     "data": {
      "image/png": "[encoded data removed]",
      "text/plain": [
       "<Figure size 640x480 with 1 Axes>"
      ]
     },
     "metadata": {},
     "output_type": "display_data"
    }
   ],
   "source": [
    "if 'Annual Income (k$)' in data1.columns:\n",
    "    sns.scatterplot(data=data1, x='Annual Income (k$)', y='SpendingScore', hue='Gender')\n",
    "    plt.title(\"Income vs Spending Score\")\n",
    "    plt.show()\n",
    "\n",
    "data1['Gender'].value_counts().plot.pie(autopct='%1.1f%%', startangle=140)\n",
    "plt.title(\"Gender Distribution\")\n",
    "plt.ylabel('')\n",
    "plt.show()"
   ]
  },
  {
   "cell_type": "markdown",
   "id": "e151b14c",
   "metadata": {},
   "source": [
    "# Step 9: Write a Conclusion"
   ]
  },
  {
   "cell_type": "markdown",
   "id": "e4f54621",
   "metadata": {},
   "source": [
    "### 🔍 Conclusion\n",
    "\n",
    "- Spending a lot is usually common among individuals in their young or middle age with more income.\n",
    "- Generally, females tend to spend more money when they're shopping than males.\n",
    "- In general, customers in their twenties and thirties (20–30) rank the highest on spending scores.\n",
    "- Emphasizing young adults and female customers would lead to better ROI for the company.\n"
   ]
  },
  {
   "cell_type": "code",
   "execution_count": null,
   "id": "0d872ccd",
   "metadata": {},
   "outputs": [],
   "source": []
  }
 ],
 "metadata": {
  "kernelspec": {
   "display_name": "Python 3 (ipykernel)",
   "language": "python",
   "name": "python3"
  },
  "language_info": {
   "codemirror_mode": {
    "name": "ipython",
    "version": 3
   },
   "file_extension": ".py",
   "mimetype": "text/x-python",
   "name": "python",
   "nbconvert_exporter": "python",
   "pygments_lexer": "ipython3",
   "version": "3.9.13"
  }
 },
 "nbformat": 4,
 "nbformat_minor": 5
}
